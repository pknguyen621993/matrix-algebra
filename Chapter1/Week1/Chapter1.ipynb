{
 "cells": [
  {
   "cell_type": "code",
   "execution_count": 1,
   "id": "17d31369-1095-41f2-b351-1fe8db91f181",
   "metadata": {},
   "outputs": [],
   "source": [
    "import numpy as np\n",
    "from scipy.linalg import svd"
   ]
  },
  {
   "cell_type": "code",
   "execution_count": 2,
   "id": "375473c0-7b31-4b32-ae98-f56b660f9718",
   "metadata": {},
   "outputs": [],
   "source": [
    "def calculate_SVD(A):\n",
    "    # Tính SVD của ma trận A\n",
    "    U, s, Vt = svd(A)\n",
    "    \n",
    "    # Tạo ma trận Σ từ vector s\n",
    "    k = len(s)\n",
    "    k_zeros_matrix = np.zeros((k, k))\n",
    "    np.fill_diagonal(k_zeros_matrix, s)\n",
    "    Sigma = np.zeros((A.shape[0], A.shape[1]))\n",
    "    Sigma[:k, :k] = k_zeros_matrix\n",
    "\n",
    "    return U, Vt, Sigma, s\n",
    "\n",
    "def get_SVD_by_k(U, Vt, Sigma, k):\n",
    "    # Giữ lại k dòng và k cột đầu tiên của ma trận Σ để tạo thành Σk\n",
    "    Sigma_k = Sigma[:k, :k]\n",
    "\n",
    "    # Giữ lại k cột đầu tiên của ma trận U để tạo ra Uk\n",
    "    U_k = U[:, :k]\n",
    "    \n",
    "    # Giữ lại k hàng đầu tiên của ma trận V chuyển vị để tạo ra VkT\n",
    "    V_kT = Vt[:k, :]\n",
    "\n",
    "    return U_k, V_kT, Sigma_k\n",
    "\n",
    "def calculate_compact_SVD(A):\n",
    "    U, Vt, Sigma, s = calculate_SVD(A)\n",
    "    # Số giá trị kì dị khác 0\n",
    "    r = np.count_nonzero(s)\n",
    "\n",
    "    U_r, V_rT, Sigma_r = get_SVD_by_k(U, Vt, Sigma, r)\n",
    "\n",
    "    return U_r, V_rT, Sigma_r\n",
    "\n",
    "def calculate_truncated_SVD(A, k):\n",
    "    U, Vt, Sigma, s = calculate_SVD(A)\n",
    "    U_k, V_kT, Sigma_k = get_SVD_by_k(U, Vt, Sigma, k)\n",
    "\n",
    "    # Tính phần trăm lượng thông tin được giữ lại\n",
    "    total_information = np.sum(s**2)\n",
    "    retained_information = np.sum(s[:k]**2)\n",
    "    retained_percentage = (retained_information / total_information) * 100\n",
    "    \n",
    "    return U_k, V_kT, Sigma_k, retained_percentage\n",
    "\n",
    "def get_truncated_SVD_retained_information(A, threshold=90):\n",
    "    U, Vt, Sigma, s = calculate_SVD(A)\n",
    "    \n",
    "    # Tìm số lượng giá trị kì dị cần giữ lại để đạt được ngưỡng thông tin\n",
    "    total_information = np.sum(s**2)\n",
    "    retained_information = 0\n",
    "    k = 0\n",
    "    for i in range(len(s)):\n",
    "        retained_information += s[i]**2\n",
    "        k += 1\n",
    "        if (retained_information / total_information) * 100 >= threshold:\n",
    "            break\n",
    "            \n",
    "    U_k, V_kT, Sigma_k = get_SVD_by_k(U, Vt, Sigma, k)\n",
    "\n",
    "    return U_k, V_kT, Sigma_k, k"
   ]
  },
  {
   "cell_type": "code",
   "execution_count": 3,
   "id": "1f88ee3b-98ab-441e-9d8c-aa7ec15662f7",
   "metadata": {},
   "outputs": [
    {
     "name": "stdout",
     "output_type": "stream",
     "text": [
      "Ma trận U:\n",
      "[[ 0.  1.  0.  0.]\n",
      " [ 1.  0.  0.  0.]\n",
      " [ 0.  0.  0.  1.]\n",
      " [ 0.  0. -1.  0.]]\n",
      "Ma trận V chuyển vị:\n",
      "[[-0.          0.          1.         -0.          0.        ]\n",
      " [ 0.4472136   0.          0.          0.          0.89442719]\n",
      " [ 0.         -1.          0.          0.          0.        ]\n",
      " [ 0.          0.          0.          1.          0.        ]\n",
      " [-0.89442719  0.          0.          0.          0.4472136 ]]\n",
      "Ma trận Σ:\n",
      "[[3.         0.         0.         0.         0.        ]\n",
      " [0.         2.23606798 0.         0.         0.        ]\n",
      " [0.         0.         2.         0.         0.        ]\n",
      " [0.         0.         0.         0.         0.        ]]\n"
     ]
    }
   ],
   "source": [
    "# Bài tập 1:\n",
    "A = np.array([[1, 0, 0, 0, 2], \n",
    "              [0, 0, 3, 0, 0], \n",
    "              [0, 0, 0, 0, 0],\n",
    "              [0, 2, 0, 0, 0]])\n",
    "U, Vt, Sigma, _ = calculate_SVD(A)\n",
    "print(\"Ma trận U:\")\n",
    "print(U)\n",
    "    \n",
    "print(\"Ma trận V chuyển vị:\")\n",
    "print(Vt)\n",
    "    \n",
    "print(\"Ma trận Σ:\")\n",
    "print(Sigma)"
   ]
  },
  {
   "cell_type": "code",
   "execution_count": 4,
   "id": "73fa7c7e-32b4-4e6d-9c8f-83f168e46056",
   "metadata": {},
   "outputs": [
    {
     "name": "stdout",
     "output_type": "stream",
     "text": [
      "Ma trận Ur:\n",
      "[[ 0.  1.  0.]\n",
      " [ 1.  0.  0.]\n",
      " [ 0.  0.  0.]\n",
      " [ 0.  0. -1.]]\n",
      "Ma trận VrT:\n",
      "[[-0.          0.          1.         -0.          0.        ]\n",
      " [ 0.4472136   0.          0.          0.          0.89442719]\n",
      " [ 0.         -1.          0.          0.          0.        ]]\n",
      "Ma trận Σr:\n",
      "[[3.         0.         0.        ]\n",
      " [0.         2.23606798 0.        ]\n",
      " [0.         0.         2.        ]]\n"
     ]
    }
   ],
   "source": [
    "# Bài tập 2:\n",
    "A = np.array([[1, 0, 0, 0, 2], \n",
    "              [0, 0, 3, 0, 0], \n",
    "              [0, 0, 0, 0, 0],\n",
    "              [0, 2, 0, 0, 0]])\n",
    "U_r, V_rT, Sigma_r = calculate_compact_SVD(A)\n",
    "print(\"Ma trận Ur:\")\n",
    "print(U_r)\n",
    "    \n",
    "print(\"Ma trận VrT:\")\n",
    "print(V_rT)\n",
    "    \n",
    "print(\"Ma trận Σr:\")\n",
    "print(Sigma_r)"
   ]
  },
  {
   "cell_type": "code",
   "execution_count": 5,
   "id": "2cabd07f-0002-4de7-8e69-dfdcfe755755",
   "metadata": {},
   "outputs": [
    {
     "name": "stdout",
     "output_type": "stream",
     "text": [
      "Ma trận Uk:\n",
      "[[-0.32813554  0.32928789  0.08780746 -0.88098834]\n",
      " [-0.27374756  0.09123211  0.31504405  0.16061502]\n",
      " [-0.64816455 -0.65873014 -0.3795124  -0.04270121]\n",
      " [-0.46609071  0.0207275   0.71918456  0.25646457]\n",
      " [-0.4243012   0.66999341 -0.4814364   0.36119923]]\n",
      "Ma trận VkT:\n",
      "[[-0.35047463 -0.4780765  -0.35097791 -0.5344013  -0.48973477]\n",
      " [ 0.24274782 -0.05358443 -0.66685673  0.62343097 -0.32378718]\n",
      " [-0.3428965   0.86035897 -0.23658964 -0.1699711  -0.2394569 ]\n",
      " [-0.77612359 -0.16080247 -0.18212689  0.3391472   0.47284639]]\n",
      "Ma trận Σk:\n",
      "[[4.68190663 0.         0.         0.        ]\n",
      " [0.         1.79325215 0.         0.        ]\n",
      " [0.         0.         1.57960998 0.        ]\n",
      " [0.         0.         0.         0.54903356]]\n",
      "Phần trăm lượng thông tin giữ lại khi giữ lại 4 giá trị kì dị: 99.89%\n"
     ]
    }
   ],
   "source": [
    "# Bài tập 3:\n",
    "A = np.array([[1.01, 0.9, 0.2, 1.001, 0.3], \n",
    "              [0.2, 1.01, 0.3, 0.8, 0.4], \n",
    "              [1, 1.002, 2, 0.98, 2],\n",
    "              [0.3, 2, 0.4, 1.01, 0.9],\n",
    "              [1.1, 0.2, 0.03, 2, 0.87]])\n",
    "k = 4\n",
    "U_k, V_kT, Sigma_k, retained_percentage = calculate_truncated_SVD(A, k)\n",
    "print(\"Ma trận Uk:\")\n",
    "print(U_k)\n",
    "    \n",
    "print(\"Ma trận VkT:\")\n",
    "print(V_kT)\n",
    "    \n",
    "print(\"Ma trận Σk:\")\n",
    "print(Sigma_k)\n",
    "\n",
    "print(f\"Phần trăm lượng thông tin giữ lại khi giữ lại {k} giá trị kì dị: {retained_percentage:.2f}%\")"
   ]
  },
  {
   "cell_type": "code",
   "execution_count": 6,
   "id": "bc12ed83-b58e-43b6-b521-8b513906583b",
   "metadata": {},
   "outputs": [
    {
     "name": "stdout",
     "output_type": "stream",
     "text": [
      "Ma trận Uk:\n",
      "[[-0.32813554  0.32928789  0.08780746]\n",
      " [-0.27374756  0.09123211  0.31504405]\n",
      " [-0.64816455 -0.65873014 -0.3795124 ]\n",
      " [-0.46609071  0.0207275   0.71918456]\n",
      " [-0.4243012   0.66999341 -0.4814364 ]]\n",
      "Ma trận VkT:\n",
      "[[-0.35047463 -0.4780765  -0.35097791 -0.5344013  -0.48973477]\n",
      " [ 0.24274782 -0.05358443 -0.66685673  0.62343097 -0.32378718]\n",
      " [-0.3428965   0.86035897 -0.23658964 -0.1699711  -0.2394569 ]]\n",
      "Ma trận Σk:\n",
      "[[4.68190663 0.         0.        ]\n",
      " [0.         1.79325215 0.        ]\n",
      " [0.         0.         1.57960998]]\n",
      "Số giá trị k cần giữ là: 3\n"
     ]
    }
   ],
   "source": [
    "# Bài tập 4:\n",
    "A = np.array([[1.01, 0.9, 0.2, 1.001, 0.3], \n",
    "              [0.2, 1.01, 0.3, 0.8, 0.4], \n",
    "              [1, 1.002, 2, 0.98, 2],\n",
    "              [0.3, 2, 0.4, 1.01, 0.9],\n",
    "              [1.1, 0.2, 0.03, 2, 0.87]])\n",
    "threshold = 90\n",
    "U_k, V_kT, Sigma_k, k = get_truncated_SVD_retained_information(A, threshold)\n",
    "print(\"Ma trận Uk:\")\n",
    "print(U_k)\n",
    "    \n",
    "print(\"Ma trận VkT:\")\n",
    "print(V_kT)\n",
    "    \n",
    "print(\"Ma trận Σk:\")\n",
    "print(Sigma_k)\n",
    "\n",
    "print(f\"Số giá trị k cần giữ là: {k}\")"
   ]
  }
 ],
 "metadata": {
  "kernelspec": {
   "display_name": "Python 3 (ipykernel)",
   "language": "python",
   "name": "python3"
  },
  "language_info": {
   "codemirror_mode": {
    "name": "ipython",
    "version": 3
   },
   "file_extension": ".py",
   "mimetype": "text/x-python",
   "name": "python",
   "nbconvert_exporter": "python",
   "pygments_lexer": "ipython3",
   "version": "3.11.7"
  }
 },
 "nbformat": 4,
 "nbformat_minor": 5
}
